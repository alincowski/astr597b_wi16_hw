{
 "cells": [
  {
   "cell_type": "markdown",
   "metadata": {},
   "source": [
    "# ASTR597B, Winter 2016: Big Data; Final\n",
    "# Transiting Exoplanet Survey Satellite\n",
    "## Import Simulated Data to Large Survey Database\n",
    "### Andrew Lincowski"
   ]
  },
  {
   "cell_type": "code",
   "execution_count": 1,
   "metadata": {
    "collapsed": true
   },
   "outputs": [],
   "source": [
    "import os\n",
    "import lsd\n",
    "from astropy.io import fits\n",
    "from astropy.table import Table\n",
    "import numpy as np\n",
    "import matplotlib.pyplot as plt\n",
    "%matplotlib inline\n",
    "\n",
    "db = lsd.DB(os.environ[\"LSD_DB\"])"
   ]
  },
  {
   "cell_type": "code",
   "execution_count": 2,
   "metadata": {
    "collapsed": false
   },
   "outputs": [
    {
     "name": "stderr",
     "output_type": "stream",
     "text": [
      "WARNING: UnitsWarning: 'Rgeo' did not parse as fits unit: At col 0, Unit 'Rgeo' not supported by the FITS standard.  [astropy.units.core]\n",
      "WARNING:astropy:UnitsWarning: 'Rgeo' did not parse as fits unit: At col 0, Unit 'Rgeo' not supported by the FITS standard. \n",
      "WARNING: UnitsWarning: 'Rsun' did not parse as fits unit: At col 0, Unit 'Rsun' not supported by the FITS standard. Did you mean Sun? [astropy.units.core]\n",
      "WARNING:astropy:UnitsWarning: 'Rsun' did not parse as fits unit: At col 0, Unit 'Rsun' not supported by the FITS standard. Did you mean Sun?\n",
      "WARNING: UnitsWarning: '[-]' did not parse as fits unit: Invalid character at col 0 [astropy.units.core]\n",
      "WARNING:astropy:UnitsWarning: '[-]' did not parse as fits unit: Invalid character at col 0\n"
     ]
    },
    {
     "name": "stdout",
     "output_type": "stream",
     "text": [
      "(raj2000, >f8)\n",
      "(dej2000, >f8)\n",
      "(rp, >f4)\n",
      "(per, >f8)\n",
      "(s, >f4)\n",
      "(k, >f4)\n",
      "(r_, >f4)\n",
      "(teff, >f4)\n",
      "(vmag, >f4)\n",
      "(imag, >f4)\n",
      "(jmag, >f4)\n",
      "(ksmag, >f4)\n",
      "(dm, >f4)\n",
      "(dil, >f4)\n",
      "(logsigv, >f4)\n",
      "(snr, >f8)\n",
      "(mult, uint8)\n"
     ]
    }
   ],
   "source": [
    "# Inspect the simulated TESS data FITS file\n",
    "data = Table.read('tess.fit')\n",
    "\n",
    "# Print out the column names and types\n",
    "for column in data.dtype.names:\n",
    "    print \"(%s, %s)\" % (column.lower(), data[column].dtype)"
   ]
  },
  {
   "cell_type": "code",
   "execution_count": 3,
   "metadata": {
    "collapsed": false
   },
   "outputs": [
    {
     "name": "stdout",
     "output_type": "stream",
     "text": [
      "# Schema for TESS table subset\r\n",
      "filters: {complevel: 5, complib: blosc}\r\n",
      "schema:\r\n",
      "  common:\r\n",
      "    primary_key: tessID\r\n",
      "    spatial_keys: [raj2000, dej2000]\r\n",
      "    columns:\r\n",
      "    - [tessID, u8]\r\n",
      "    - [raj2000, f8]\r\n",
      "    - [dej2000, f8]\r\n",
      "    - [rp, f4]\r\n",
      "    - [per, f8]\r\n",
      "    - [s, f4]\r\n",
      "    - [k, f4]\r\n",
      "    - [r_, f4]\r\n",
      "    - [teff, f4]\r\n",
      "  photometry:\r\n",
      "    columns:\r\n",
      "    - [vmag, f4]\r\n",
      "    - [imag, f4]\r\n",
      "    - [jmag, f4]\r\n",
      "    - [ksmag, f4]\r\n",
      "  statistics:\r\n",
      "    columns:\r\n",
      "    - [dm, f4]\r\n",
      "    - [dil, f4]\r\n",
      "    - [logsigv, f4]\r\n",
      "    - [snr, f8]\r\n",
      "    - [mult, u8]"
     ]
    }
   ],
   "source": [
    "# Create the corresponding YAML file\n",
    "# Note that the TESS simulated data does not have a primary key\n",
    "# This schema allows LSD to generate a primary key\n",
    "! cat tess.yaml"
   ]
  },
  {
   "cell_type": "code",
   "execution_count": 4,
   "metadata": {
    "collapsed": false
   },
   "outputs": [
    {
     "name": "stdout",
     "output_type": "stream",
     "text": [
      "Table 'tess' dropped.\n",
      "\n",
      "-------- committing 20160308221755.059485 [tess] ---------\n",
      "[tess] Updating tablet catalog: [256 el.]::::::::::::::::::::>  0.16 sec\n",
      "[tess] Updating neighbors: Already up to date.\n",
      "[tess] Updating tablet catalog: [256 el.]::::::::::::::::::::>  0.14 sec\n",
      "[tess] Updating stats: [0 el.]>  0.00 sec\n",
      "[tess] Marking tablets read-only...\n",
      "----------- success 20160308221755.059485 [tess] ---------\n",
      "\n",
      "Table 'tess' created.\n"
     ]
    }
   ],
   "source": [
    "#Create LSD table structure using tess schema\n",
    "! lsd-admin create table --drop --schema=tess.yaml tess"
   ]
  },
  {
   "cell_type": "code",
   "execution_count": 5,
   "metadata": {
    "collapsed": false
   },
   "outputs": [
    {
     "name": "stdout",
     "output_type": "stream",
     "text": [
      "Importing from 1 pieces:\n",
      "  ===> Imported tess.fit                                                               [1/1, 100.00%] +   1984/1984         1984 (0/0 min.)\n",
      "done\n",
      "\n",
      "-------- committing 20160308221756.534579 [tess] ---------\n",
      "[tess] Updating tablet catalog: [256 el.]::::::::::::::::::::>  1.04 sec\n",
      "[tess] Updating neighbors: [1039 el.]::::::::::::::::::::[142 el.]++++++++++++++++++++>  2.51 sec\n",
      "       Total 154 cached objects in 142 cells\n",
      "[tess] Updating tablet catalog: [256 el.]::::::::::::::::::::>  1.09 sec\n",
      "[tess] Updating stats: [1108 el.]::::::::::::::::::::>  0.08 sec [1108 el.]::::::::::::::::::::>  1.35 sec\n",
      "[tess] Marking tablets read-only...\n",
      "----------- success 20160308221756.534579 [tess] ---------\n",
      "\n"
     ]
    }
   ],
   "source": [
    "#Import TESS data\n",
    "! lsd-import fits tess tess.fit"
   ]
  },
  {
   "cell_type": "code",
   "execution_count": 6,
   "metadata": {
    "collapsed": false
   },
   "outputs": [
    {
     "name": "stdout",
     "output_type": "stream",
     "text": [
      "Path:          /home/linc/lsd/lsddb/tess\r\n",
      "Partitioning:  level=6\r\n",
      "(t0, dt):      54335.000000, 1.000000 \r\n",
      "Rows:          1984\r\n",
      "Columns:       18\r\n",
      "Primary key:   tessID\r\n",
      "Spatial keys:  (raj2000, dej2000)\r\n",
      "Aliases:       []\r\n",
      "Column groups: ['common', 'photometry', 'statistics']\r\n",
      "-------------------------------\r\n",
      "Column group 'common':\r\n",
      "              Column       Type\r\n",
      "-------------------------------\r\n",
      "              tessID         u8\r\n",
      "             raj2000         f8\r\n",
      "             dej2000         f8\r\n",
      "                  rp         f4\r\n",
      "                 per         f8\r\n",
      "                   s         f4\r\n",
      "                   k         f4\r\n",
      "                  r_         f4\r\n",
      "                teff         f4\r\n",
      "-------------------------------\r\n",
      "-------------------------------\r\n",
      "Column group 'photometry':\r\n",
      "              Column       Type\r\n",
      "-------------------------------\r\n",
      "                vmag         f4\r\n",
      "                imag         f4\r\n",
      "                jmag         f4\r\n",
      "               ksmag         f4\r\n",
      "-------------------------------\r\n",
      "-------------------------------\r\n",
      "Column group 'statistics':\r\n",
      "              Column       Type\r\n",
      "-------------------------------\r\n",
      "                  dm         f4\r\n",
      "                 dil         f4\r\n",
      "             logsigv         f4\r\n",
      "                 snr         f8\r\n",
      "                mult         u8\r\n",
      "-------------------------------\r\n",
      "\r\n"
     ]
    }
   ],
   "source": [
    "#Show TESS data structure from LSD\n",
    "! lsd-admin desc table tess"
   ]
  },
  {
   "cell_type": "markdown",
   "metadata": {},
   "source": [
    "## Although not asked to for this assignment, I would like to look at this data to make sure it makes sense. I will simply plot the RA, dec and look at the sky distribution of TESS data, which is an all-sky survey."
   ]
  },
  {
   "cell_type": "code",
   "execution_count": 7,
   "metadata": {
    "collapsed": false
   },
   "outputs": [
    {
     "name": "stdout",
     "output_type": "stream",
     "text": [
      " [1039 el.]::::::::::::::::::::>  1.55 sec\n",
      "Objects: 1984.0\n"
     ]
    }
   ],
   "source": [
    "#Show number of objects\n",
    "! lsd-footprint tess output.fits"
   ]
  },
  {
   "cell_type": "code",
   "execution_count": 18,
   "metadata": {
    "collapsed": true
   },
   "outputs": [],
   "source": [
    "import os\n",
    "import lsd\n",
    "\n",
    "db = lsd.DB(os.environ[\"LSD_DB\"])"
   ]
  },
  {
   "cell_type": "code",
   "execution_count": 19,
   "metadata": {
    "collapsed": false
   },
   "outputs": [
    {
     "name": "stderr",
     "output_type": "stream",
     "text": [
      "WARNING:lsd.pool2:Error contacting lsd-manager. Cannot coordinate resource usage with others, using 8 cores.\n",
      " [1039 el.]WARNING:lsd.pool2:Error contacting lsd-manager. Cannot coordinate resource usage with others, using 8 cores.\n",
      "::::::::::::::::::::>  1.55 sec\n"
     ]
    }
   ],
   "source": [
    "#Query TESS data\n",
    "qstr = 'SELECT raj2000, dej2000 FROM tess'\n",
    "rows = db.query(qstr).fetch()"
   ]
  },
  {
   "cell_type": "code",
   "execution_count": 20,
   "metadata": {
    "collapsed": false
   },
   "outputs": [
    {
     "data": {
      "text/plain": [
       "<matplotlib.axes._subplots.AxesSubplot at 0x7fe7c8b86f90>"
      ]
     },
     "execution_count": 20,
     "metadata": {},
     "output_type": "execute_result"
    },
    {
     "data": {
      "image/png": "[encoded data removed]",
      "text/plain": [
       "<matplotlib.figure.Figure at 0x7fe7cc6f30d0>"
      ]
     },
     "metadata": {},
     "output_type": "display_data"
    }
   ],
   "source": [
    "#Read the selected data into pandas dataframe and plot\n",
    "import pandas as pd\n",
    "\n",
    "data = pd.DataFrame(rows.as_ndarray())\n",
    "data.plot(kind='scatter', x='raj2000', y='dej2000', s=0.8, figsize=(12, 6), xlim=[0,360], ylim=[-90,90])"
   ]
  },
  {
   "cell_type": "markdown",
   "metadata": {},
   "source": [
    "We can see here that that +- 6 deg from the ecliptic is missing, because TESS does not cover that. And we see the \"poles\", where TESS has continuous 1-yr coverage."
   ]
  },
  {
   "cell_type": "code",
   "execution_count": null,
   "metadata": {
    "collapsed": true
   },
   "outputs": [],
   "source": []
  }
 ],
 "metadata": {
  "kernelspec": {
   "display_name": "Python 2",
   "language": "python",
   "name": "python2"
  },
  "language_info": {
   "codemirror_mode": {
    "name": "ipython",
    "version": 2
   },
   "file_extension": ".py",
   "mimetype": "text/x-python",
   "name": "python",
   "nbconvert_exporter": "python",
   "pygments_lexer": "ipython2",
   "version": "2.7.11"
  }
 },
 "nbformat": 4,
 "nbformat_minor": 0
}
